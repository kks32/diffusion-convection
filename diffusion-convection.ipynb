{
 "cells": [
  {
   "cell_type": "code",
   "execution_count": 3,
   "metadata": {},
   "outputs": [
    {
     "name": "stdout",
     "output_type": "stream",
     "text": [
      "Rayleigh-Darcy number: 142.35819230769232\n",
      "dt: 0.36000000000000004, computed dt: 120.19230769230768 critical dt: 12019230769.230768\n",
      "Completed: 0.0 %\n",
      "Completed: 10.0 %\n",
      "Completed: 20.0 %\n",
      "Completed: 30.0 %\n"
     ]
    },
    {
     "ename": "KeyboardInterrupt",
     "evalue": "",
     "output_type": "error",
     "traceback": [
      "\u001b[0;31m---------------------------------------------------------------------------\u001b[0m",
      "\u001b[0;31mKeyboardInterrupt\u001b[0m                         Traceback (most recent call last)",
      "\u001b[0;32m<ipython-input-3-bfbd8bc5a89b>\u001b[0m in \u001b[0;36m<module>\u001b[0;34m\u001b[0m\n\u001b[1;32m    132\u001b[0m     \u001b[0;32mif\u001b[0m \u001b[0mm\u001b[0m \u001b[0;34m%\u001b[0m \u001b[0;34m(\u001b[0m\u001b[0;36m10\u001b[0m\u001b[0;34m*\u001b[0m\u001b[0mnpercent\u001b[0m\u001b[0;34m)\u001b[0m \u001b[0;34m==\u001b[0m \u001b[0;36m0\u001b[0m\u001b[0;34m:\u001b[0m\u001b[0;34m\u001b[0m\u001b[0;34m\u001b[0m\u001b[0m\n\u001b[1;32m    133\u001b[0m         \u001b[0mprint\u001b[0m\u001b[0;34m(\u001b[0m\u001b[0;34m\"Completed: {} %\"\u001b[0m\u001b[0;34m.\u001b[0m\u001b[0mformat\u001b[0m\u001b[0;34m(\u001b[0m\u001b[0mm\u001b[0m\u001b[0;34m/\u001b[0m\u001b[0mnpercent\u001b[0m\u001b[0;34m)\u001b[0m\u001b[0;34m)\u001b[0m\u001b[0;34m\u001b[0m\u001b[0;34m\u001b[0m\u001b[0m\n\u001b[0;32m--> 134\u001b[0;31m     \u001b[0mu0\u001b[0m\u001b[0;34m,\u001b[0m \u001b[0mu\u001b[0m \u001b[0;34m=\u001b[0m \u001b[0mdo_timestep\u001b[0m\u001b[0;34m(\u001b[0m\u001b[0mu0\u001b[0m\u001b[0;34m,\u001b[0m \u001b[0mu\u001b[0m\u001b[0;34m)\u001b[0m\u001b[0;34m\u001b[0m\u001b[0;34m\u001b[0m\u001b[0m\n\u001b[0m\u001b[1;32m    135\u001b[0m     \u001b[0muu\u001b[0m\u001b[0;34m.\u001b[0m\u001b[0mappend\u001b[0m\u001b[0;34m(\u001b[0m\u001b[0mu\u001b[0m\u001b[0;34m.\u001b[0m\u001b[0mcopy\u001b[0m\u001b[0;34m(\u001b[0m\u001b[0;34m)\u001b[0m\u001b[0;34m)\u001b[0m\u001b[0;34m\u001b[0m\u001b[0;34m\u001b[0m\u001b[0m\n\u001b[1;32m    136\u001b[0m \u001b[0;34m\u001b[0m\u001b[0m\n",
      "\u001b[0;32m<ipython-input-3-bfbd8bc5a89b>\u001b[0m in \u001b[0;36mdo_timestep\u001b[0;34m(u0, u)\u001b[0m\n\u001b[1;32m    111\u001b[0m         \u001b[0;32mfor\u001b[0m \u001b[0mj\u001b[0m \u001b[0;32min\u001b[0m \u001b[0mrange\u001b[0m\u001b[0;34m(\u001b[0m\u001b[0mny\u001b[0m\u001b[0;34m)\u001b[0m\u001b[0;34m:\u001b[0m\u001b[0;34m\u001b[0m\u001b[0;34m\u001b[0m\u001b[0m\n\u001b[1;32m    112\u001b[0m             \u001b[0;31m#mid cable\u001b[0m\u001b[0;34m\u001b[0m\u001b[0;34m\u001b[0m\u001b[0;34m\u001b[0m\u001b[0m\n\u001b[0;32m--> 113\u001b[0;31m             \u001b[0mp2\u001b[0m \u001b[0;34m=\u001b[0m \u001b[0;34m(\u001b[0m\u001b[0mi\u001b[0m\u001b[0;34m*\u001b[0m\u001b[0mdx\u001b[0m\u001b[0;34m-\u001b[0m\u001b[0mcx\u001b[0m\u001b[0;34m)\u001b[0m\u001b[0;34m**\u001b[0m\u001b[0;36m2\u001b[0m \u001b[0;34m+\u001b[0m \u001b[0;34m(\u001b[0m\u001b[0mj\u001b[0m\u001b[0;34m*\u001b[0m\u001b[0mdy\u001b[0m\u001b[0;34m-\u001b[0m\u001b[0mcy\u001b[0m\u001b[0;34m)\u001b[0m\u001b[0;34m**\u001b[0m\u001b[0;36m2\u001b[0m\u001b[0;34m\u001b[0m\u001b[0;34m\u001b[0m\u001b[0m\n\u001b[0m\u001b[1;32m    114\u001b[0m             \u001b[0;32mif\u001b[0m \u001b[0mp2\u001b[0m \u001b[0;34m<\u001b[0m \u001b[0mr2\u001b[0m\u001b[0;34m:\u001b[0m\u001b[0;34m\u001b[0m\u001b[0;34m\u001b[0m\u001b[0m\n\u001b[1;32m    115\u001b[0m                 \u001b[0mu0\u001b[0m\u001b[0;34m[\u001b[0m\u001b[0mi\u001b[0m\u001b[0;34m,\u001b[0m\u001b[0mj\u001b[0m\u001b[0;34m]\u001b[0m \u001b[0;34m=\u001b[0m \u001b[0mThot\u001b[0m\u001b[0;34m\u001b[0m\u001b[0;34m\u001b[0m\u001b[0m\n",
      "\u001b[0;31mKeyboardInterrupt\u001b[0m: "
     ]
    }
   ],
   "source": [
    "import numpy as np\n",
    "import matplotlib.pyplot as plt\n",
    "from matplotlib.animation import FuncAnimation\n",
    "from matplotlib import animation, rc\n",
    "from IPython.display import HTML\n",
    "\n",
    "# box size, m\n",
    "w = h = 1\n",
    "# intervals in x-, y- directions, m\n",
    "dx = dy = 0.01\n",
    "# Thermal diffusivity, m2.s-1\n",
    "alpha = 2.08e-7\n",
    "# Porosity\n",
    "n = 0.4\n",
    "# Viscosity kg/m\n",
    "mu = 1.00E-03 \n",
    "# Permeability m2\n",
    "k = 1E-9\n",
    "# Thermal expansion \n",
    "beta = 8.80E-05\n",
    "# Cf\n",
    "cf = 4290\n",
    "# rhow\n",
    "rhow = 980\n",
    "# gravity\n",
    "g = 9.81 \n",
    "\n",
    "# Set conduction to 0 to disable\n",
    "conduction = 1.\n",
    "\n",
    "# Temperature of the cable\n",
    "Tcool, Thot = 0, 70\n",
    "\n",
    "# Cable geometry, inner radius r, width dr centred at (cx,cy) (mm)\n",
    "r, cx, cy = 0.05, 0.5, 0.5\n",
    "r2 = r**2\n",
    "\n",
    "# Cable geometry, inner radius r, width dr centred at (cx,cy) (mm)\n",
    "cr1, cx1, cy1 = 0.05, 0.5, 0.4\n",
    "cr1r2 = cr1**2\n",
    "\n",
    "# Cable geometry, inner radius r, width dr centred at (cx,cy) (mm)\n",
    "cr2, cx2, cy2 = 0.05, 0.5, 0.6\n",
    "cr2r2 = cr2**2\n",
    "\n",
    "# pipe geometry\n",
    "pr, px, py = 0.2, 0.75, 0.5\n",
    "pr2 = pr**2\n",
    "alphaSteel = 11.72e-6 #mm^2/s\n",
    "\n",
    "# Rayleigh number\n",
    "ra = (rhow * g * (h -cx) * k * beta * (Thot-Tcool))/(mu*alpha)\n",
    "print(\"Rayleigh-Darcy number: {}\".format(ra))\n",
    "\n",
    "# Calculations\n",
    "nx, ny = int(w/dx), int(h/dy)\n",
    "\n",
    "dx2, dy2 = dx*dx, dy*dy\n",
    "dt = dx2 * dy2 / (2 * alpha * (dx2 + dy2))\n",
    "\n",
    "dt = 0.0001 * 3600\n",
    "print(\"dt: {}, computed dt: {} critical dt: {}\".format(dt, dx2 * dy2 / (2 * alpha * (dx2 + dy2)), 1/(2 * alpha * (dx2 + dy2))))\n",
    "\n",
    "a = alpha * np.ones((nx, ny))\n",
    "u0 = Tcool * np.ones((nx, ny))\n",
    "u = u0.copy()\n",
    "\n",
    "flux = u0.copy()\n",
    "\n",
    "uu = []\n",
    "\n",
    "\n",
    "# Initial conditions\n",
    "\n",
    "for i in range(nx):\n",
    "    for j in range(ny):\n",
    "        #mid cable\n",
    "        p2 = (i*dx-cx)**2 + (j*dy-cy)**2\n",
    "        if p2 < r2:\n",
    "            u0[i,j] = Thot\n",
    "        # left cable\n",
    "        p2 = (i*dx-cx1)**2 + (j*dy-cy1)**2\n",
    "        if p2 < cr1r2:\n",
    "            u0[i,j] = Thot\n",
    "        # right cable\n",
    "        p2 = (i*dx-cx2)**2 + (j*dy-cy2)**2\n",
    "        if p2 < cr2r2:\n",
    "            u0[i,j] = Thot\n",
    "        # Modify pipe alpha\n",
    "        p2 = (i*dx-px)**2 + (j*dy-py)**2\n",
    "        if p2 < pr2:\n",
    "            a[i,j] = alphaSteel\n",
    "        \n",
    "\n",
    "def do_timestep(u0, u):\n",
    "    # Propagate with forward-difference in time, central-difference in space, upwind solution for convection\n",
    "    # Convection velocity term:\n",
    "    # The velocity corresponds to differential density, since we are measuring the differnetial temp,\n",
    "    # the rho(1 - beta(T)) is written as rho*(beta*DeltaT)\n",
    "    u[1:-1, 1:-1] = u0[1:-1, 1:-1] + \\\n",
    "     + conduction * a[1:-1,1:-1] * dt * ((u0[2:, 1:-1] - 2*u0[1:-1, 1:-1] + u0[:-2, 1:-1])/dx2 + \\\n",
    "          (u0[1:-1, 2:] - 2*u0[1:-1, 1:-1] + u0[1:-1, :-2])/dy2) + \\\n",
    "    dt * (1/(n*mu)*k*g*rhow)*(beta*(u0[1:-1,1:-1]-Tcool)) * \\\n",
    "    (u0[2:,1:-1] - u0[1:-1,1:-1])/(dy)\n",
    "    \n",
    "    flux[1:-1,1:-1] = dt * (1/(n*mu)*k*9.81*rhow)*(beta*(u0[1:-1,1:-1]-Tcool)) * \\\n",
    "    (u0[2:,1:-1] - u0[1:-1,1:-1])/(dy)\n",
    "\n",
    "    for i in range(nx):\n",
    "        for j in range(ny):\n",
    "            #mid cable\n",
    "            p2 = (i*dx-cx)**2 + (j*dy-cy)**2\n",
    "            if p2 < r2:\n",
    "                u0[i,j] = Thot\n",
    "            # left cable\n",
    "            p2 = (i*dx-cx1)**2 + (j*dy-cy1)**2\n",
    "            if p2 < cr1r2:\n",
    "                u0[i,j] = Thot\n",
    "            # right cable\n",
    "            p2 = (i*dx-cx2)**2 + (j*dy-cy2)**2\n",
    "            if p2 < cr2r2:\n",
    "                u0[i,j] = Thot\n",
    "\n",
    "    u0 = u.copy()\n",
    "    return u0, u\n",
    "\n",
    "# Number of timesteps\n",
    "nsteps = 100001\n",
    "npercent = int(nsteps/100)\n",
    "for m in range(nsteps):\n",
    "    if m % (10*npercent) == 0:\n",
    "        print(\"Completed: {} %\".format(m/npercent))\n",
    "    u0, u = do_timestep(u0, u)\n",
    "    uu.append(u.copy())\n",
    "\n",
    "print(\"Conduction: \", conduction)\n",
    "print(\"Total simulation time: {} hours\".format(dt * nsteps / 3600))\n",
    "\n",
    "fig = plt.figure()\n",
    "pcm = plt.pcolormesh(np.flipud(uu[len(uu)-1]))\n",
    "plt.colorbar()    "
   ]
  },
  {
   "cell_type": "code",
   "execution_count": 2,
   "metadata": {},
   "outputs": [
    {
     "data": {
      "text/plain": [
       "<matplotlib.colorbar.Colorbar at 0x7f627d18e940>"
      ]
     },
     "execution_count": 2,
     "metadata": {},
     "output_type": "execute_result"
    },
    {
     "data": {
      "image/png": "[encoded data removed]",
      "text/plain": [
       "<Figure size 432x288 with 2 Axes>"
      ]
     },
     "metadata": {
      "needs_background": "light"
     },
     "output_type": "display_data"
    }
   ],
   "source": [
    "fig = plt.figure()\n",
    "pcm = plt.pcolormesh(np.flipud(uu[0]))\n",
    "#plt.xlim(40,160)\n",
    "#plt.ylim(40,200)\n",
    "plt.colorbar()    \n"
   ]
  },
  {
   "cell_type": "code",
   "execution_count": null,
   "metadata": {},
   "outputs": [],
   "source": [
    "def step(i):\n",
    "    j = int(nsteps/100*i)\n",
    "    pcm.set_array(np.flipud(uu[j]).ravel())\n",
    "    plt.draw()\n",
    "\n",
    "anim = FuncAnimation(fig, step, interval=50)\n",
    "HTML(anim.to_html5_video())"
   ]
  },
  {
   "cell_type": "code",
   "execution_count": null,
   "metadata": {
    "scrolled": true
   },
   "outputs": [],
   "source": [
    "fig = plt.figure()\n",
    "pcm = plt.pcolormesh(np.flipud(uu[10000]))\n",
    "plt.colorbar()    \n",
    "#plt.xticks([0,20,40,60,80],[0,100,200,300,400])\n",
    "#plt.yticks([0,20,40,60,80],[0,100,200,300,400])\n",
    "print(len(uu))"
   ]
  },
  {
   "cell_type": "code",
   "execution_count": null,
   "metadata": {},
   "outputs": [],
   "source": [
    "\n",
    "fig = plt.figure()\n",
    "pcm = plt.pcolormesh(uu[len(uu)-1])\n",
    "plt.colorbar()    "
   ]
  },
  {
   "cell_type": "code",
   "execution_count": null,
   "metadata": {},
   "outputs": [],
   "source": [
    "sum = 0\n",
    "for i in range(20,80,1):\n",
    "        if p2 > r2:\n",
    "            sum += flux[i,20]\n",
    "print(-sum/0.6)"
   ]
  },
  {
   "cell_type": "code",
   "execution_count": null,
   "metadata": {},
   "outputs": [],
   "source": [
    "0.0019774250706145148*(rhow*cf)/(dt*nsteps)"
   ]
  },
  {
   "cell_type": "code",
   "execution_count": null,
   "metadata": {},
   "outputs": [],
   "source": [
    "xi, yi = np.mgrid[0:1:100j, 0:1:100j]\n",
    "dy, dx = np.gradient(-u)"
   ]
  },
  {
   "cell_type": "code",
   "execution_count": null,
   "metadata": {},
   "outputs": [],
   "source": [
    "fig, ax = plt.subplots()\n",
    "ax.streamplot(xi[:,0], yi[0,:], dx, dy, color='0.8', density=1)"
   ]
  },
  {
   "cell_type": "code",
   "execution_count": null,
   "metadata": {},
   "outputs": [],
   "source": [
    " 99531105882.35294 * k"
   ]
  },
  {
   "cell_type": "code",
   "execution_count": null,
   "metadata": {},
   "outputs": [],
   "source": []
  }
 ],
 "metadata": {
  "kernelspec": {
   "display_name": "Python 3",
   "language": "python",
   "name": "python3"
  },
  "language_info": {
   "codemirror_mode": {
    "name": "ipython",
    "version": 3
   },
   "file_extension": ".py",
   "mimetype": "text/x-python",
   "name": "python",
   "nbconvert_exporter": "python",
   "pygments_lexer": "ipython3",
   "version": "3.8.3"
  }
 },
 "nbformat": 4,
 "nbformat_minor": 4
}
