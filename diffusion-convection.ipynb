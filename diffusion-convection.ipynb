{
 "cells": [
  {
   "cell_type": "code",
   "execution_count": 10,
   "metadata": {},
   "outputs": [
    {
     "name": "stdout",
     "output_type": "stream",
     "text": [
      "dt: %f, critical dt: %f 163.3986928104575 16339869281.04575\n",
      "Conduction:  1.0\n",
      "End time:  100.01\n"
     ]
    },
    {
     "data": {
      "text/plain": [
       "<matplotlib.colorbar.Colorbar at 0x7f563275c070>"
      ]
     },
     "execution_count": 10,
     "metadata": {},
     "output_type": "execute_result"
    },
    {
     "data": {
      "image/png": "[encoded data removed]",
      "text/plain": [
       "<Figure size 432x288 with 2 Axes>"
      ]
     },
     "metadata": {
      "needs_background": "light"
     },
     "output_type": "display_data"
    }
   ],
   "source": [
    "import numpy as np\n",
    "import matplotlib.pyplot as plt\n",
    "from matplotlib.animation import FuncAnimation\n",
    "from matplotlib import animation, rc\n",
    "from IPython.display import HTML\n",
    "\n",
    "# box size, m\n",
    "w = h = 1.\n",
    "# intervals in x-, y- directions, m\n",
    "dx = dy = 0.01\n",
    "# Thermal diffusivity, m2.s-1\n",
    "alpha = 1.53e-7\n",
    "# Porosity\n",
    "n = 0.4\n",
    "# Viscosity kg/m\n",
    "nu = 1.00E-03 \n",
    "# Permeability m2\n",
    "k = 1e-10\n",
    "# Thermal expansion \n",
    "beta = 8.80E-05\n",
    "# Cf\n",
    "cf = 4290\n",
    "# rhow\n",
    "rhow = 980\n",
    "\n",
    "# Disable conduction\n",
    "conduction = 1.\n",
    "\n",
    "Tcool, Thot = 0, 90\n",
    "\n",
    "nx, ny = int(w/dx), int(h/dy)\n",
    "\n",
    "dx2, dy2 = dx*dx, dy*dy\n",
    "dt = dx2 * dy2 / (2 * alpha * (dx2 + dy2))\n",
    "\n",
    "print(\"dt: %f, critical dt: %f\", dt, 1/(2 * alpha * (dx2 + dy2)))\n",
    "dt = 0.01\n",
    "\n",
    "u0 = Tcool * np.ones((nx, ny))\n",
    "u = u0.copy()\n",
    "\n",
    "uu = []\n",
    "\n",
    "\n",
    "# Initial conditions - ring of inner radius r, width dr centred at (cx,cy) (mm)\n",
    "r, cx, cy = 0.1, 0.5, 0.5\n",
    "r2 = r**2\n",
    "for i in range(nx):\n",
    "    for j in range(ny):\n",
    "        p2 = (i*dx-cx)**2 + (j*dy-cy)**2\n",
    "        if p2 < r2:\n",
    "            u0[i,j] = Thot\n",
    "\n",
    "def do_timestep(u0, u):\n",
    "    # Propagate with forward-difference in time, central-difference in space, upwind solution for convection\n",
    "    # Convection velocity term:\n",
    "    # The velocity corresponds to differential density, since we are measuring the differnetial temp,\n",
    "    # the rho(1 - beta(T)) is written as rho*(beta*DeltaT)\n",
    "    u[1:-1, 1:-1] = u0[1:-1, 1:-1] + \\\n",
    "     + conduction * alpha * dt * 3600* ((u0[2:, 1:-1] - 2*u0[1:-1, 1:-1] + u0[:-2, 1:-1])/dx2 + \\\n",
    "          (u0[1:-1, 2:] - 2*u0[1:-1, 1:-1] + u0[1:-1, :-2])/dy2) + \\\n",
    "    dt * 3600 * (1/(n*nu)*k*9.81*rhow)*(beta*(u0[1:-1,1:-1]-Tcool)) * \\\n",
    "    (u0[2:,1:-1] - u0[1:-1,1:-1])/(dy)\n",
    "\n",
    "    for i in range(nx):\n",
    "        for j in range(ny):\n",
    "            p2 = (i*dx-cx)**2 + (j*dy-cy)**2\n",
    "            if p2 < r2:\n",
    "                u[i,j] = Thot\n",
    "\n",
    "    u0 = u.copy()\n",
    "    return u0, u\n",
    "\n",
    "# Number of timesteps\n",
    "nsteps = 10001\n",
    "for m in range(nsteps):\n",
    "    u0, u = do_timestep(u0, u)\n",
    "    uu.append(u.copy())\n",
    "\n",
    "print(\"Conduction: \", conduction)\n",
    "print(\"End time: \", dt * nsteps)\n",
    "\n",
    "fig = plt.figure()\n",
    "pcm = plt.pcolormesh(np.flipud(uu[len(uu)-1]))\n",
    "plt.colorbar()    "
   ]
  },
  {
   "cell_type": "code",
   "execution_count": null,
   "metadata": {},
   "outputs": [],
   "source": [
    "def step(i):\n",
    "    j = int(nsteps/100*i)\n",
    "    pcm.set_array(np.flipud(uu[j]).ravel())\n",
    "    plt.draw()\n",
    "\n",
    "anim = FuncAnimation(fig, step, interval=50)\n",
    "HTML(anim.to_html5_video())"
   ]
  },
  {
   "cell_type": "code",
   "execution_count": null,
   "metadata": {},
   "outputs": [],
   "source": []
  }
 ],
 "metadata": {
  "kernelspec": {
   "display_name": "Python 3",
   "language": "python",
   "name": "python3"
  },
  "language_info": {
   "codemirror_mode": {
    "name": "ipython",
    "version": 3
   },
   "file_extension": ".py",
   "mimetype": "text/x-python",
   "name": "python",
   "nbconvert_exporter": "python",
   "pygments_lexer": "ipython3",
   "version": "3.8.3"
  }
 },
 "nbformat": 4,
 "nbformat_minor": 4
}
